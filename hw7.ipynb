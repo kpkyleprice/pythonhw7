{
 "cells": [
  {
   "cell_type": "code",
   "execution_count": 1,
   "id": "3a4c2482",
   "metadata": {},
   "outputs": [
    {
     "data": {
      "text/plain": [
       "125"
      ]
     },
     "execution_count": 1,
     "metadata": {},
     "output_type": "execute_result"
    }
   ],
   "source": [
    "def Multiply(f, num):\n",
    "    return f(num) \n",
    "Multiply(lambda x: x*x*x, 5)"
   ]
  },
  {
   "cell_type": "code",
   "execution_count": 2,
   "id": "bc24ae2d",
   "metadata": {},
   "outputs": [
    {
     "name": "stdout",
     "output_type": "stream",
     "text": [
      "[1, 7, 11, 19, 47, 37]\n"
     ]
    }
   ],
   "source": [
    "nums = [1,4,6,10,24,19]\n",
    "print(list(map(lambda x: x*2 - 1 , nums)))"
   ]
  },
  {
   "cell_type": "code",
   "execution_count": 7,
   "id": "c560bc01",
   "metadata": {},
   "outputs": [
    {
     "name": "stdout",
     "output_type": "stream",
     "text": [
      "[5, 7, 11, 12, 19]\n"
     ]
    }
   ],
   "source": [
    "from statistics import mean\n",
    "\n",
    "nums = [5, 7, 11, 12, 44, 19, 67]\n",
    "print(list(filter(lambda num: True if num < mean(nums) else False, nums)))"
   ]
  },
  {
   "cell_type": "code",
   "execution_count": 8,
   "id": "77da8977",
   "metadata": {},
   "outputs": [
    {
     "name": "stdout",
     "output_type": "stream",
     "text": [
      "360\n"
     ]
    }
   ],
   "source": [
    "from functools import reduce\n",
    "list = [2, 3, 6, 10]\n",
    "newlist = reduce(lambda x, y: x*y, list)\n",
    "print(newlist)"
   ]
  },
  {
   "cell_type": "code",
   "execution_count": 9,
   "id": "fa6c3ad2",
   "metadata": {},
   "outputs": [
    {
     "data": {
      "text/plain": [
       "13"
      ]
     },
     "execution_count": 9,
     "metadata": {},
     "output_type": "execute_result"
    }
   ],
   "source": [
    "def subNums(num):\n",
    "    if num <= 1:\n",
    "        return 1\n",
    "    else:\n",
    "        return num - subNums(num - 1)\n",
    "    \n",
    "subNums(25)"
   ]
  },
  {
   "cell_type": "code",
   "execution_count": 10,
   "id": "3854a645",
   "metadata": {},
   "outputs": [
    {
     "name": "stdout",
     "output_type": "stream",
     "text": [
      "1\n",
      "4\n",
      "9\n",
      "16\n",
      "25\n",
      "36\n",
      "49\n",
      "64\n",
      "81\n"
     ]
    },
    {
     "data": {
      "text/plain": [
       "<generator object Square at 0x000001A942949970>"
      ]
     },
     "execution_count": 10,
     "metadata": {},
     "output_type": "execute_result"
    }
   ],
   "source": [
    "def Square(stop, start, step = 1):\n",
    "    while start < stop:\n",
    "        yield start\n",
    "        start += step\n",
    "\n",
    "for i in Square(10, start = 1):\n",
    "    value = i*i\n",
    "    print(value)\n",
    "\n",
    "Square(200, start = 2)"
   ]
  },
  {
   "cell_type": "code",
   "execution_count": 1,
   "id": "7c77f5cf",
   "metadata": {},
   "outputs": [
    {
     "name": "stdout",
     "output_type": "stream",
     "text": [
      "['Argentina', 'San Diego', 'Boston', 'New York']\n"
     ]
    }
   ],
   "source": [
    "places = [\" \", \"Argentina\", \" \", \"San Diego\", \"\", \"  \", \"\", \"Boston\", \"New York\"]\n",
    "\n",
    "def new_places(place):\n",
    "    if place.strip() == \"\":\n",
    "        return False\n",
    "    else:\n",
    "        return True\n",
    "\n",
    "filtered_places = list(filter(new_places, places))\n",
    "print(filtered_places)"
   ]
  },
  {
   "cell_type": "code",
   "execution_count": 13,
   "id": "30595702",
   "metadata": {},
   "outputs": [
    {
     "name": "stdout",
     "output_type": "stream",
     "text": [
      "['Victor aNisimov', 'Gary A.J Bernstein', 'Joel Carter', 'Andrew P. Garfield', 'David hassELHOFF']\n"
     ]
    }
   ],
   "source": [
    "authors = [\"Joel Carter\", \"Victor aNisimov\", \"Andrew P. Garfield\", \"David hassELHOFF\", \"Gary A.J Bernstein\"]\n",
    "authors.sort(key=lambda name: name.split(\" \")[-1].lower())\n",
    "print(authors)"
   ]
  },
  {
   "cell_type": "code",
   "execution_count": 2,
   "id": "1c6ff8fc",
   "metadata": {},
   "outputs": [
    {
     "name": "stdout",
     "output_type": "stream",
     "text": [
      "[('Nashua', 89.6), ('Boston', 53.6), ('Los Angeles', 111.2), ('Miami', 71.6)]\n"
     ]
    }
   ],
   "source": [
    "places = [('Nashua', 32), (\"Boston\", 12), (\"Los Angeles\", 44), (\"Miami\", 22)]\n",
    "\n",
    "new_places = list(map(lambda c: (c[0], (9/5) * c[1] + 32), places))\n",
    "print(new_places)"
   ]
  },
  {
   "cell_type": "code",
   "execution_count": 15,
   "id": "c1343e5f",
   "metadata": {},
   "outputs": [
    {
     "name": "stdout",
     "output_type": "stream",
     "text": [
      "Iteration(1): 1\n",
      "Iteration(0): 1\n",
      "Iteration(2): 2\n",
      "Iteration(3): 3\n",
      "Iteration(4): 5\n",
      "Iteration(5): 8\n"
     ]
    }
   ],
   "source": [
    "nums = {}\n",
    "\n",
    "def fib(n):\n",
    "    if n <= 1:\n",
    "        nums[n] = 1\n",
    "    \n",
    "    if n in nums:\n",
    "        return nums[n]\n",
    "    \n",
    "    nums[n] = fib(n - 1) + fib(n - 2)\n",
    "    return nums[n]\n",
    "\n",
    "fib(5)\n",
    "\n",
    "for n in nums:\n",
    "    print(f\"Iteration({n}): {nums[n]}\")"
   ]
  },
  {
   "cell_type": "code",
   "execution_count": null,
   "id": "c4d1e50c",
   "metadata": {},
   "outputs": [],
   "source": []
  }
 ],
 "metadata": {
  "kernelspec": {
   "display_name": "Python 3 (ipykernel)",
   "language": "python",
   "name": "python3"
  },
  "language_info": {
   "codemirror_mode": {
    "name": "ipython",
    "version": 3
   },
   "file_extension": ".py",
   "mimetype": "text/x-python",
   "name": "python",
   "nbconvert_exporter": "python",
   "pygments_lexer": "ipython3",
   "version": "3.9.13"
  }
 },
 "nbformat": 4,
 "nbformat_minor": 5
}
